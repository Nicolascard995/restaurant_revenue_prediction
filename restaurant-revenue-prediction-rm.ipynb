{
 "cells": [
  {
   "cell_type": "markdown",
   "id": "ad0e724f",
   "metadata": {
    "papermill": {
     "duration": 0.012008,
     "end_time": "2023-04-30T13:27:22.122616",
     "exception": false,
     "start_time": "2023-04-30T13:27:22.110608",
     "status": "completed"
    },
    "tags": []
   },
   "source": [
    "# Preprocessing and Exploratory Data Analysis\n",
    "\n",
    "### Importing necessary libraries\n",
    "In this block of code, we are importing the necessary libraries for data processing and visualization, and setting up the environment for inline plotting using %matplotlib inline. We are also ignoring any warnings that may occur during the analysis.\n",
    "\n",
    "Next, we are reading the training and test data from the CSV files using pd.read_csv(), and printing out the shapes (number of rows and columns) and column names of the training dataset using the shape and columns attributes."
   ]
  },
  {
   "cell_type": "code",
   "execution_count": 1,
   "id": "58d23e5d",
   "metadata": {
    "_cell_guid": "b27524a0-8d75-9b0f-60b3-24f5b8b0b8df",
    "execution": {
     "iopub.execute_input": "2023-04-30T13:27:22.146268Z",
     "iopub.status.busy": "2023-04-30T13:27:22.145476Z",
     "iopub.status.idle": "2023-04-30T13:27:23.981037Z",
     "shell.execute_reply": "2023-04-30T13:27:23.979779Z"
    },
    "papermill": {
     "duration": 1.850782,
     "end_time": "2023-04-30T13:27:23.984052",
     "exception": false,
     "start_time": "2023-04-30T13:27:22.133270",
     "status": "completed"
    },
    "tags": []
   },
   "outputs": [],
   "source": [
    "import os\n",
    "import numpy as np # linear algebra\n",
    "import pandas as pd # data processing, CSV file I/O (e.g. pd.read_csv)\n",
    "import matplotlib.pyplot as plt\n",
    "import seaborn as sns\n",
    "import missingno as msno\n",
    "%matplotlib inline\n",
    "import warnings\n",
    "warnings.filterwarnings('ignore')\n",
    "\n",
    "#read files\n",
    "raw_df = pd.read_csv('/kaggle/input/restaurant-revenue23/train.csv')\n",
    "test_data = pd.read_csv('/kaggle/input/restaurant-revenue23/test.csv')\n",
    "\n",
    "#Remove the 'Id' column from both datasets\n",
    "raw_df = raw_df.drop('Id', axis=1)"
   ]
  },
  {
   "cell_type": "markdown",
   "id": "a6b2df92",
   "metadata": {
    "papermill": {
     "duration": 0.010295,
     "end_time": "2023-04-30T13:27:24.005020",
     "exception": false,
     "start_time": "2023-04-30T13:27:23.994725",
     "status": "completed"
    },
    "tags": []
   },
   "source": [
    "### Reading the data files\n",
    "In this code block, we are printing out the shape (number of rows and columns) and available features of the training and test datasets. This information is important for understanding the size and structure of the datasets, as well as for identifying the features we can use to predict the target variable.\n",
    "\n",
    "The result of this code will show the shape and features of the training dataset and the test dataset."
   ]
  },
  {
   "cell_type": "code",
   "execution_count": 2,
   "id": "96ae8196",
   "metadata": {
    "_cell_guid": "13164536-7fa3-4f11-a5e2-b19a89037c06",
    "execution": {
     "iopub.execute_input": "2023-04-30T13:27:24.029642Z",
     "iopub.status.busy": "2023-04-30T13:27:24.029186Z",
     "iopub.status.idle": "2023-04-30T13:27:24.035804Z",
     "shell.execute_reply": "2023-04-30T13:27:24.034483Z"
    },
    "papermill": {
     "duration": 0.024211,
     "end_time": "2023-04-30T13:27:24.039804",
     "exception": false,
     "start_time": "2023-04-30T13:27:24.015593",
     "status": "completed"
    },
    "tags": []
   },
   "outputs": [
    {
     "name": "stdout",
     "output_type": "stream",
     "text": [
      "Shape of training data: (137, 42)\n",
      "Shape of test dataset: (100000, 42)     \n",
      "Features available: Index(['Open Date', 'City', 'City Group', 'Type', 'P1', 'P2', 'P3', 'P4', 'P5',\n",
      "       'P6', 'P7', 'P8', 'P9', 'P10', 'P11', 'P12', 'P13', 'P14', 'P15', 'P16',\n",
      "       'P17', 'P18', 'P19', 'P20', 'P21', 'P22', 'P23', 'P24', 'P25', 'P26',\n",
      "       'P27', 'P28', 'P29', 'P30', 'P31', 'P32', 'P33', 'P34', 'P35', 'P36',\n",
      "       'P37', 'revenue'],\n",
      "      dtype='object')\n"
     ]
    }
   ],
   "source": [
    "print(f\"Shape of training data: {raw_df.shape}\\nShape of test dataset: {test_data.shape} \\\n",
    "    \\nFeatures available: {raw_df.columns}\")"
   ]
  },
  {
   "cell_type": "markdown",
   "id": "d27029fa",
   "metadata": {
    "papermill": {
     "duration": 0.010485,
     "end_time": "2023-04-30T13:27:24.061437",
     "exception": false,
     "start_time": "2023-04-30T13:27:24.050952",
     "status": "completed"
    },
    "tags": []
   },
   "source": [
    "The shape of the training dataset is (137, 43), which means there are 137 rows and 43 columns in the dataset. The shape of the test dataset is (100000, 42), which means there are 100,000 rows and 42 columns in the dataset. The available features are listed in the last line of the output."
   ]
  },
  {
   "cell_type": "markdown",
   "id": "bac704fb",
   "metadata": {
    "papermill": {
     "duration": 0.010395,
     "end_time": "2023-04-30T13:27:24.082585",
     "exception": false,
     "start_time": "2023-04-30T13:27:24.072190",
     "status": "completed"
    },
    "tags": []
   },
   "source": [
    "### Checking for missing values and handling them\n",
    "\n",
    "Data cleaning is an essential step in the data preprocessing pipeline, and it involves handling missing or unstructured data, removing duplicates, and transforming or encoding categorical variables. In this project, we will first check for missing data and then handle any unstructured data by encoding categorical variables.\n",
    "To clean the data, we can start by checking for missing values and handling them appropriately. One way to do this is by using the isnull() function to identify the columns with missing values, and then use techniques such as imputation or removal of the missing values."
   ]
  },
  {
   "cell_type": "code",
   "execution_count": 3,
   "id": "c99c58bf",
   "metadata": {
    "execution": {
     "iopub.execute_input": "2023-04-30T13:27:24.107411Z",
     "iopub.status.busy": "2023-04-30T13:27:24.106603Z",
     "iopub.status.idle": "2023-04-30T13:27:24.150416Z",
     "shell.execute_reply": "2023-04-30T13:27:24.149156Z"
    },
    "papermill": {
     "duration": 0.059734,
     "end_time": "2023-04-30T13:27:24.153362",
     "exception": false,
     "start_time": "2023-04-30T13:27:24.093628",
     "status": "completed"
    },
    "tags": []
   },
   "outputs": [
    {
     "data": {
      "text/html": [
       "<div>\n",
       "<style scoped>\n",
       "    .dataframe tbody tr th:only-of-type {\n",
       "        vertical-align: middle;\n",
       "    }\n",
       "\n",
       "    .dataframe tbody tr th {\n",
       "        vertical-align: top;\n",
       "    }\n",
       "\n",
       "    .dataframe thead th {\n",
       "        text-align: right;\n",
       "    }\n",
       "</style>\n",
       "<table border=\"1\" class=\"dataframe\">\n",
       "  <thead>\n",
       "    <tr style=\"text-align: right;\">\n",
       "      <th></th>\n",
       "      <th>Open Date</th>\n",
       "      <th>City</th>\n",
       "      <th>City Group</th>\n",
       "      <th>Type</th>\n",
       "      <th>P1</th>\n",
       "      <th>P2</th>\n",
       "      <th>P3</th>\n",
       "      <th>P4</th>\n",
       "      <th>P5</th>\n",
       "      <th>P6</th>\n",
       "      <th>P7</th>\n",
       "      <th>P8</th>\n",
       "      <th>P9</th>\n",
       "      <th>P10</th>\n",
       "      <th>P11</th>\n",
       "      <th>P12</th>\n",
       "      <th>P13</th>\n",
       "      <th>P14</th>\n",
       "      <th>P15</th>\n",
       "      <th>P16</th>\n",
       "      <th>P17</th>\n",
       "      <th>P18</th>\n",
       "      <th>P19</th>\n",
       "      <th>P20</th>\n",
       "      <th>P21</th>\n",
       "      <th>P22</th>\n",
       "      <th>P23</th>\n",
       "      <th>P24</th>\n",
       "      <th>P25</th>\n",
       "      <th>P26</th>\n",
       "      <th>P27</th>\n",
       "      <th>P28</th>\n",
       "      <th>P29</th>\n",
       "      <th>P30</th>\n",
       "      <th>P31</th>\n",
       "      <th>P32</th>\n",
       "      <th>P33</th>\n",
       "      <th>P34</th>\n",
       "      <th>P35</th>\n",
       "      <th>P36</th>\n",
       "      <th>P37</th>\n",
       "      <th>revenue</th>\n",
       "    </tr>\n",
       "  </thead>\n",
       "  <tbody>\n",
       "    <tr>\n",
       "      <th>0</th>\n",
       "      <td>07/17/1999</td>\n",
       "      <td>İstanbul</td>\n",
       "      <td>Big Cities</td>\n",
       "      <td>IL</td>\n",
       "      <td>4</td>\n",
       "      <td>5.0</td>\n",
       "      <td>4.0</td>\n",
       "      <td>4.0</td>\n",
       "      <td>2</td>\n",
       "      <td>2</td>\n",
       "      <td>5</td>\n",
       "      <td>4</td>\n",
       "      <td>5</td>\n",
       "      <td>5</td>\n",
       "      <td>3</td>\n",
       "      <td>5</td>\n",
       "      <td>5.0</td>\n",
       "      <td>1</td>\n",
       "      <td>2</td>\n",
       "      <td>2</td>\n",
       "      <td>2</td>\n",
       "      <td>4</td>\n",
       "      <td>5</td>\n",
       "      <td>4</td>\n",
       "      <td>1</td>\n",
       "      <td>3</td>\n",
       "      <td>3</td>\n",
       "      <td>1</td>\n",
       "      <td>1</td>\n",
       "      <td>1.0</td>\n",
       "      <td>4.0</td>\n",
       "      <td>2.0</td>\n",
       "      <td>3.0</td>\n",
       "      <td>5</td>\n",
       "      <td>3</td>\n",
       "      <td>4</td>\n",
       "      <td>5</td>\n",
       "      <td>5</td>\n",
       "      <td>4</td>\n",
       "      <td>3</td>\n",
       "      <td>4</td>\n",
       "      <td>5653753.0</td>\n",
       "    </tr>\n",
       "    <tr>\n",
       "      <th>1</th>\n",
       "      <td>02/14/2008</td>\n",
       "      <td>Ankara</td>\n",
       "      <td>Big Cities</td>\n",
       "      <td>FC</td>\n",
       "      <td>4</td>\n",
       "      <td>5.0</td>\n",
       "      <td>4.0</td>\n",
       "      <td>4.0</td>\n",
       "      <td>1</td>\n",
       "      <td>2</td>\n",
       "      <td>5</td>\n",
       "      <td>5</td>\n",
       "      <td>5</td>\n",
       "      <td>5</td>\n",
       "      <td>1</td>\n",
       "      <td>5</td>\n",
       "      <td>5.0</td>\n",
       "      <td>0</td>\n",
       "      <td>0</td>\n",
       "      <td>0</td>\n",
       "      <td>0</td>\n",
       "      <td>0</td>\n",
       "      <td>3</td>\n",
       "      <td>2</td>\n",
       "      <td>1</td>\n",
       "      <td>3</td>\n",
       "      <td>2</td>\n",
       "      <td>0</td>\n",
       "      <td>0</td>\n",
       "      <td>0.0</td>\n",
       "      <td>0.0</td>\n",
       "      <td>3.0</td>\n",
       "      <td>3.0</td>\n",
       "      <td>0</td>\n",
       "      <td>0</td>\n",
       "      <td>0</td>\n",
       "      <td>0</td>\n",
       "      <td>0</td>\n",
       "      <td>0</td>\n",
       "      <td>0</td>\n",
       "      <td>0</td>\n",
       "      <td>6923131.0</td>\n",
       "    </tr>\n",
       "    <tr>\n",
       "      <th>2</th>\n",
       "      <td>03/09/2013</td>\n",
       "      <td>Diyarbakır</td>\n",
       "      <td>Other</td>\n",
       "      <td>IL</td>\n",
       "      <td>2</td>\n",
       "      <td>4.0</td>\n",
       "      <td>2.0</td>\n",
       "      <td>5.0</td>\n",
       "      <td>2</td>\n",
       "      <td>3</td>\n",
       "      <td>5</td>\n",
       "      <td>5</td>\n",
       "      <td>5</td>\n",
       "      <td>5</td>\n",
       "      <td>2</td>\n",
       "      <td>5</td>\n",
       "      <td>5.0</td>\n",
       "      <td>0</td>\n",
       "      <td>0</td>\n",
       "      <td>0</td>\n",
       "      <td>0</td>\n",
       "      <td>0</td>\n",
       "      <td>1</td>\n",
       "      <td>1</td>\n",
       "      <td>1</td>\n",
       "      <td>1</td>\n",
       "      <td>1</td>\n",
       "      <td>0</td>\n",
       "      <td>0</td>\n",
       "      <td>0.0</td>\n",
       "      <td>0.0</td>\n",
       "      <td>1.0</td>\n",
       "      <td>3.0</td>\n",
       "      <td>0</td>\n",
       "      <td>0</td>\n",
       "      <td>0</td>\n",
       "      <td>0</td>\n",
       "      <td>0</td>\n",
       "      <td>0</td>\n",
       "      <td>0</td>\n",
       "      <td>0</td>\n",
       "      <td>2055379.0</td>\n",
       "    </tr>\n",
       "    <tr>\n",
       "      <th>3</th>\n",
       "      <td>02/02/2012</td>\n",
       "      <td>Tokat</td>\n",
       "      <td>Other</td>\n",
       "      <td>IL</td>\n",
       "      <td>6</td>\n",
       "      <td>4.5</td>\n",
       "      <td>6.0</td>\n",
       "      <td>6.0</td>\n",
       "      <td>4</td>\n",
       "      <td>4</td>\n",
       "      <td>10</td>\n",
       "      <td>8</td>\n",
       "      <td>10</td>\n",
       "      <td>10</td>\n",
       "      <td>8</td>\n",
       "      <td>10</td>\n",
       "      <td>7.5</td>\n",
       "      <td>6</td>\n",
       "      <td>4</td>\n",
       "      <td>9</td>\n",
       "      <td>3</td>\n",
       "      <td>12</td>\n",
       "      <td>20</td>\n",
       "      <td>12</td>\n",
       "      <td>6</td>\n",
       "      <td>1</td>\n",
       "      <td>10</td>\n",
       "      <td>2</td>\n",
       "      <td>2</td>\n",
       "      <td>2.5</td>\n",
       "      <td>2.5</td>\n",
       "      <td>2.5</td>\n",
       "      <td>7.5</td>\n",
       "      <td>25</td>\n",
       "      <td>12</td>\n",
       "      <td>10</td>\n",
       "      <td>6</td>\n",
       "      <td>18</td>\n",
       "      <td>12</td>\n",
       "      <td>12</td>\n",
       "      <td>6</td>\n",
       "      <td>2675511.0</td>\n",
       "    </tr>\n",
       "    <tr>\n",
       "      <th>4</th>\n",
       "      <td>05/09/2009</td>\n",
       "      <td>Gaziantep</td>\n",
       "      <td>Other</td>\n",
       "      <td>IL</td>\n",
       "      <td>3</td>\n",
       "      <td>4.0</td>\n",
       "      <td>3.0</td>\n",
       "      <td>4.0</td>\n",
       "      <td>2</td>\n",
       "      <td>2</td>\n",
       "      <td>5</td>\n",
       "      <td>5</td>\n",
       "      <td>5</td>\n",
       "      <td>5</td>\n",
       "      <td>2</td>\n",
       "      <td>5</td>\n",
       "      <td>5.0</td>\n",
       "      <td>2</td>\n",
       "      <td>1</td>\n",
       "      <td>2</td>\n",
       "      <td>1</td>\n",
       "      <td>4</td>\n",
       "      <td>2</td>\n",
       "      <td>2</td>\n",
       "      <td>1</td>\n",
       "      <td>2</td>\n",
       "      <td>1</td>\n",
       "      <td>2</td>\n",
       "      <td>3</td>\n",
       "      <td>3.0</td>\n",
       "      <td>5.0</td>\n",
       "      <td>1.0</td>\n",
       "      <td>3.0</td>\n",
       "      <td>5</td>\n",
       "      <td>1</td>\n",
       "      <td>3</td>\n",
       "      <td>2</td>\n",
       "      <td>3</td>\n",
       "      <td>4</td>\n",
       "      <td>3</td>\n",
       "      <td>3</td>\n",
       "      <td>4316715.0</td>\n",
       "    </tr>\n",
       "  </tbody>\n",
       "</table>\n",
       "</div>"
      ],
      "text/plain": [
       "    Open Date        City  City Group Type  P1   P2   P3   P4  P5  P6  P7  P8  \\\n",
       "0  07/17/1999    İstanbul  Big Cities   IL   4  5.0  4.0  4.0   2   2   5   4   \n",
       "1  02/14/2008      Ankara  Big Cities   FC   4  5.0  4.0  4.0   1   2   5   5   \n",
       "2  03/09/2013  Diyarbakır       Other   IL   2  4.0  2.0  5.0   2   3   5   5   \n",
       "3  02/02/2012       Tokat       Other   IL   6  4.5  6.0  6.0   4   4  10   8   \n",
       "4  05/09/2009   Gaziantep       Other   IL   3  4.0  3.0  4.0   2   2   5   5   \n",
       "\n",
       "   P9  P10  P11  P12  P13  P14  P15  P16  P17  P18  P19  P20  P21  P22  P23  \\\n",
       "0   5    5    3    5  5.0    1    2    2    2    4    5    4    1    3    3   \n",
       "1   5    5    1    5  5.0    0    0    0    0    0    3    2    1    3    2   \n",
       "2   5    5    2    5  5.0    0    0    0    0    0    1    1    1    1    1   \n",
       "3  10   10    8   10  7.5    6    4    9    3   12   20   12    6    1   10   \n",
       "4   5    5    2    5  5.0    2    1    2    1    4    2    2    1    2    1   \n",
       "\n",
       "   P24  P25  P26  P27  P28  P29  P30  P31  P32  P33  P34  P35  P36  P37  \\\n",
       "0    1    1  1.0  4.0  2.0  3.0    5    3    4    5    5    4    3    4   \n",
       "1    0    0  0.0  0.0  3.0  3.0    0    0    0    0    0    0    0    0   \n",
       "2    0    0  0.0  0.0  1.0  3.0    0    0    0    0    0    0    0    0   \n",
       "3    2    2  2.5  2.5  2.5  7.5   25   12   10    6   18   12   12    6   \n",
       "4    2    3  3.0  5.0  1.0  3.0    5    1    3    2    3    4    3    3   \n",
       "\n",
       "     revenue  \n",
       "0  5653753.0  \n",
       "1  6923131.0  \n",
       "2  2055379.0  \n",
       "3  2675511.0  \n",
       "4  4316715.0  "
      ]
     },
     "execution_count": 3,
     "metadata": {},
     "output_type": "execute_result"
    }
   ],
   "source": [
    "# To see all the columns in output this can be done.\n",
    "pd.options.display.max_columns=None\n",
    "# To see all rows change max_columns with max_rows\n",
    "\n",
    "raw_df.head()"
   ]
  },
  {
   "cell_type": "code",
   "execution_count": 4,
   "id": "2d919bd5",
   "metadata": {
    "_cell_guid": "b87afe7f-9a8a-79a7-4c4d-c9ac89ee3548",
    "execution": {
     "iopub.execute_input": "2023-04-30T13:27:24.178997Z",
     "iopub.status.busy": "2023-04-30T13:27:24.177814Z",
     "iopub.status.idle": "2023-04-30T13:27:24.196096Z",
     "shell.execute_reply": "2023-04-30T13:27:24.194604Z"
    },
    "papermill": {
     "duration": 0.033635,
     "end_time": "2023-04-30T13:27:24.198665",
     "exception": false,
     "start_time": "2023-04-30T13:27:24.165030",
     "status": "completed"
    },
    "tags": []
   },
   "outputs": [
    {
     "name": "stdout",
     "output_type": "stream",
     "text": [
      "Open Date     0\n",
      "City          0\n",
      "City Group    0\n",
      "Type          0\n",
      "P1            0\n",
      "P2            0\n",
      "P3            0\n",
      "P4            0\n",
      "P5            0\n",
      "P6            0\n",
      "P7            0\n",
      "P8            0\n",
      "P9            0\n",
      "P10           0\n",
      "P11           0\n",
      "P12           0\n",
      "P13           0\n",
      "P14           0\n",
      "P15           0\n",
      "P16           0\n",
      "P17           0\n",
      "P18           0\n",
      "P19           0\n",
      "P20           0\n",
      "P21           0\n",
      "P22           0\n",
      "P23           0\n",
      "P24           0\n",
      "P25           0\n",
      "P26           0\n",
      "P27           0\n",
      "P28           0\n",
      "P29           0\n",
      "P30           0\n",
      "P31           0\n",
      "P32           0\n",
      "P33           0\n",
      "P34           0\n",
      "P35           0\n",
      "P36           0\n",
      "P37           0\n",
      "revenue       0\n",
      "dtype: int64\n"
     ]
    },
    {
     "data": {
      "text/plain": [
       "False"
      ]
     },
     "execution_count": 4,
     "metadata": {},
     "output_type": "execute_result"
    }
   ],
   "source": [
    "#Check for missing values\n",
    "print(raw_df.isnull().sum())\n",
    "\n",
    "#Remove missing values\n",
    "raw_df = raw_df.dropna()\n",
    "\n",
    "raw_df.isnull().sum().any()"
   ]
  },
  {
   "cell_type": "markdown",
   "id": "bb416f2e",
   "metadata": {
    "papermill": {
     "duration": 0.01145,
     "end_time": "2023-04-30T13:27:24.222013",
     "exception": false,
     "start_time": "2023-04-30T13:27:24.210563",
     "status": "completed"
    },
    "tags": []
   },
   "source": [
    " \n",
    " There are no missing values.\n",
    "Last column 'revenue' is our target column.\n",
    "Features from P1 to P37 are all numerical features about which we know nothing specifically. So, I will directly feed them into my model.\n",
    "Id column is redundant, I will drop it. To avoid it we can choose it as index column while reading data.i.e., using pd.read_csv('filepath',index_col=col_name_or_positional_no)\n",
    "In feature Open date, I will focus on month and year and drop date values.\n",
    "City, City Group and Type are categorical columns. To feed them to ML model they need to be converted into machine-readable form which is numerical form."
   ]
  },
  {
   "cell_type": "markdown",
   "id": "2ab42b8c",
   "metadata": {
    "papermill": {
     "duration": 0.011085,
     "end_time": "2023-04-30T13:27:24.244520",
     "exception": false,
     "start_time": "2023-04-30T13:27:24.233435",
     "status": "completed"
    },
    "tags": []
   },
   "source": [
    "### Exploratory Data Analysis\n",
    "EDA is an important step in any data analysis project. It helps us to understand the data, identify patterns, and relationships between variables. Here are the possible exploratory visualizations that cloud be useful for this project:"
   ]
  },
  {
   "cell_type": "markdown",
   "id": "c27a57ca",
   "metadata": {
    "papermill": {
     "duration": 0.011147,
     "end_time": "2023-04-30T13:27:24.267253",
     "exception": false,
     "start_time": "2023-04-30T13:27:24.256106",
     "status": "completed"
    },
    "tags": []
   },
   "source": [
    "1. e are creating a distribution plot of the target variable revenue using the sns.distplot() function. We set the hist parameter to False to show only the kernel density estimate (KDE) plot."
   ]
  },
  {
   "cell_type": "code",
   "execution_count": 5,
   "id": "0aea61e5",
   "metadata": {
    "_cell_guid": "d6a7dad0-756d-af67-05b0-944433ac908f",
    "execution": {
     "iopub.execute_input": "2023-04-30T13:27:24.291901Z",
     "iopub.status.busy": "2023-04-30T13:27:24.291240Z",
     "iopub.status.idle": "2023-04-30T13:27:24.585243Z",
     "shell.execute_reply": "2023-04-30T13:27:24.584277Z"
    },
    "papermill": {
     "duration": 0.308892,
     "end_time": "2023-04-30T13:27:24.587503",
     "exception": false,
     "start_time": "2023-04-30T13:27:24.278611",
     "status": "completed"
    },
    "tags": []
   },
   "outputs": [
    {
     "data": {
      "image/png": "[encoded data removed]",
      "text/plain": [
       "<Figure size 640x480 with 1 Axes>"
      ]
     },
     "metadata": {},
     "output_type": "display_data"
    }
   ],
   "source": [
    "# Plot distribution of transformed revenue column\n",
    "sns.distplot(raw_df['revenue'],hist=False)\n",
    "plt.title('Distribution of Target variable')\n",
    "sns.despine();"
   ]
  },
  {
   "cell_type": "markdown",
   "id": "b34e3029",
   "metadata": {
    "papermill": {
     "duration": 0.011781,
     "end_time": "2023-04-30T13:27:24.613322",
     "exception": false,
     "start_time": "2023-04-30T13:27:24.601541",
     "status": "completed"
    },
    "tags": []
   },
   "source": [
    "It is important to remove any outliers that may have a significant impact on the analysis, as they can skew the results and affect the performance of the models. In this case, we chose to remove any values in the revenue column that are greater than 8 million.\n",
    "\n",
    "***Note that we created a copy of the filtered dataset using the copy() method to avoid modifying the original dataset. This is a good practice to ensure that we can always revert to the original data if needed.***"
   ]
  },
  {
   "cell_type": "code",
   "execution_count": 6,
   "id": "defc7178",
   "metadata": {
    "execution": {
     "iopub.execute_input": "2023-04-30T13:27:24.640369Z",
     "iopub.status.busy": "2023-04-30T13:27:24.639638Z",
     "iopub.status.idle": "2023-04-30T13:27:24.645081Z",
     "shell.execute_reply": "2023-04-30T13:27:24.644250Z"
    },
    "papermill": {
     "duration": 0.022398,
     "end_time": "2023-04-30T13:27:24.647715",
     "exception": false,
     "start_time": "2023-04-30T13:27:24.625317",
     "status": "completed"
    },
    "tags": []
   },
   "outputs": [],
   "source": [
    "raw_df = raw_df[raw_df['revenue']<8e+06].copy()"
   ]
  },
  {
   "cell_type": "markdown",
   "id": "82cc460d",
   "metadata": {
    "papermill": {
     "duration": 0.011812,
     "end_time": "2023-04-30T13:27:24.671709",
     "exception": false,
     "start_time": "2023-04-30T13:27:24.659897",
     "status": "completed"
    },
    "tags": []
   },
   "source": [
    "This code block shows how to create two countplots side by side to compare the distribution of the Type column in the training and test datasets. We first create a figure with two subplots using subplots(), and then use sns.countplot() to create countplots for the Type column in each dataset. We set the x parameter to 'Type' and use the ax parameter to specify the corresponding subplot for each countplot. We also set titles for each subplot using set_title()."
   ]
  },
  {
   "cell_type": "code",
   "execution_count": 7,
   "id": "141dbe99",
   "metadata": {
    "execution": {
     "iopub.execute_input": "2023-04-30T13:27:24.698436Z",
     "iopub.status.busy": "2023-04-30T13:27:24.697743Z",
     "iopub.status.idle": "2023-04-30T13:27:25.101807Z",
     "shell.execute_reply": "2023-04-30T13:27:25.100419Z"
    },
    "papermill": {
     "duration": 0.421334,
     "end_time": "2023-04-30T13:27:25.105269",
     "exception": false,
     "start_time": "2023-04-30T13:27:24.683935",
     "status": "completed"
    },
    "tags": []
   },
   "outputs": [
    {
     "data": {
      "image/png": "[encoded data removed]",
      "text/plain": [
       "<Figure size 900x500 with 2 Axes>"
      ]
     },
     "metadata": {},
     "output_type": "display_data"
    }
   ],
   "source": [
    "fig,ax = plt.subplots(1,2,figsize=(9,5))\n",
    "sns.set_style('darkgrid')\n",
    "sns.countplot(data=raw_df, x='Type',ax=ax[0])\n",
    "ax[0].set_title('Train set')\n",
    "sns.countplot(data=test_data, x='Type',ax=ax[1])\n",
    "ax[1].set_title('Test set');\n"
   ]
  },
  {
   "cell_type": "markdown",
   "id": "d6a663e7",
   "metadata": {
    "papermill": {
     "duration": 0.018584,
     "end_time": "2023-04-30T13:27:25.142647",
     "exception": false,
     "start_time": "2023-04-30T13:27:25.124063",
     "status": "completed"
    },
    "tags": []
   },
   "source": [
    "There is not even asingle observation of type 'MB' in training set. This is a problem for our model.\n",
    "In that case, you may want to consider dropping the 'MB' category altogether from both the training and test sets. "
   ]
  },
  {
   "cell_type": "code",
   "execution_count": 8,
   "id": "7ad52b73",
   "metadata": {
    "_cell_guid": "59a51d2c-b8be-96b1-0f3e-042950c6fffc",
    "execution": {
     "iopub.execute_input": "2023-04-30T13:27:25.173110Z",
     "iopub.status.busy": "2023-04-30T13:27:25.172128Z",
     "iopub.status.idle": "2023-04-30T13:27:25.210904Z",
     "shell.execute_reply": "2023-04-30T13:27:25.209098Z"
    },
    "papermill": {
     "duration": 0.055796,
     "end_time": "2023-04-30T13:27:25.213639",
     "exception": false,
     "start_time": "2023-04-30T13:27:25.157843",
     "status": "completed"
    },
    "tags": []
   },
   "outputs": [],
   "source": [
    "raw_df = raw_df[raw_df['Type'] != 'MB']\n",
    "test_data = test_data[test_data['Type'] != 'MB']"
   ]
  },
  {
   "cell_type": "code",
   "execution_count": 9,
   "id": "dbca957f",
   "metadata": {
    "_cell_guid": "31c28f3a-e5fd-db88-1432-5469a8f59b98",
    "execution": {
     "iopub.execute_input": "2023-04-30T13:27:25.241869Z",
     "iopub.status.busy": "2023-04-30T13:27:25.240860Z",
     "iopub.status.idle": "2023-04-30T13:27:25.675437Z",
     "shell.execute_reply": "2023-04-30T13:27:25.674199Z"
    },
    "papermill": {
     "duration": 0.451767,
     "end_time": "2023-04-30T13:27:25.678087",
     "exception": false,
     "start_time": "2023-04-30T13:27:25.226320",
     "status": "completed"
    },
    "tags": []
   },
   "outputs": [
    {
     "data": {
      "image/png": "[encoded data removed]",
      "text/plain": [
       "<Figure size 900x500 with 2 Axes>"
      ]
     },
     "metadata": {},
     "output_type": "display_data"
    }
   ],
   "source": [
    "fig,ax = plt.subplots(1,2,figsize=(9,5))\n",
    "sns.set_style('darkgrid')\n",
    "sns.countplot(data=raw_df, x='Type',ax=ax[0])\n",
    "ax[0].set_title('Train set')\n",
    "sns.countplot(data=test_data, x='Type',ax=ax[1])\n",
    "ax[1].set_title('Test set');"
   ]
  },
  {
   "cell_type": "markdown",
   "id": "d1edfbdc",
   "metadata": {
    "papermill": {
     "duration": 0.012813,
     "end_time": "2023-04-30T13:27:25.704166",
     "exception": false,
     "start_time": "2023-04-30T13:27:25.691353",
     "status": "completed"
    },
    "tags": []
   },
   "source": [
    "This code creates a checkpoint by concatenating the training and test datasets into one dataframe. It then extracts the month and year from the 'Open Date' column and creates two new columns, 'launch_Month' and 'launch_year'. The 'Id' and 'Open Date' columns are dropped from the dataframe. Finally, a countplot is created to visualize the number of restaurant launches in each month."
   ]
  },
  {
   "cell_type": "code",
   "execution_count": 10,
   "id": "86996e84",
   "metadata": {
    "_cell_guid": "d5a0d4cb-3cbc-66a7-a92a-b6fce928acfc",
    "execution": {
     "iopub.execute_input": "2023-04-30T13:27:25.732752Z",
     "iopub.status.busy": "2023-04-30T13:27:25.731575Z",
     "iopub.status.idle": "2023-04-30T13:27:26.326528Z",
     "shell.execute_reply": "2023-04-30T13:27:26.325284Z"
    },
    "papermill": {
     "duration": 0.612327,
     "end_time": "2023-04-30T13:27:26.329562",
     "exception": false,
     "start_time": "2023-04-30T13:27:25.717235",
     "status": "completed"
    },
    "tags": []
   },
   "outputs": [],
   "source": [
    "#Create a checkpoint so that we can easily access original dataset\n",
    "df = pd.concat([raw_df,test_data],axis=0)\n",
    "\n",
    "#Extracting month and year from data column\n",
    "df['Open Date'] = pd.to_datetime(df['Open Date'])\n",
    "df['launch_Month'] = [x.month for x in df['Open Date']]\n",
    "df['launch_year'] = [x.year for x in df['Open Date']]\n",
    "df.drop(['Id','Open Date'],axis=1,inplace=True)"
   ]
  },
  {
   "cell_type": "code",
   "execution_count": 11,
   "id": "2468eb23",
   "metadata": {
    "_cell_guid": "b8c2863e-2f6a-44c6-19b3-5c491de76462",
    "execution": {
     "iopub.execute_input": "2023-04-30T13:27:26.357963Z",
     "iopub.status.busy": "2023-04-30T13:27:26.357559Z",
     "iopub.status.idle": "2023-04-30T13:27:26.685743Z",
     "shell.execute_reply": "2023-04-30T13:27:26.684541Z"
    },
    "papermill": {
     "duration": 0.345134,
     "end_time": "2023-04-30T13:27:26.688104",
     "exception": false,
     "start_time": "2023-04-30T13:27:26.342970",
     "status": "completed"
    },
    "tags": []
   },
   "outputs": [
    {
     "data": {
      "text/plain": [
       "Text(0.5, 1.0, 'Month-wise no of launches')"
      ]
     },
     "execution_count": 11,
     "metadata": {},
     "output_type": "execute_result"
    },
    {
     "data": {
      "image/png": "[encoded data removed]",
      "text/plain": [
       "<Figure size 640x480 with 1 Axes>"
      ]
     },
     "metadata": {},
     "output_type": "display_data"
    }
   ],
   "source": [
    "sns.countplot(data=df, x='launch_Month')\n",
    "plt.title('Month-wise no of launches')"
   ]
  },
  {
   "cell_type": "markdown",
   "id": "17461f43",
   "metadata": {
    "papermill": {
     "duration": 0.013807,
     "end_time": "2023-04-30T13:27:26.715570",
     "exception": false,
     "start_time": "2023-04-30T13:27:26.701763",
     "status": "completed"
    },
    "tags": []
   },
   "source": [
    "This suggests that TFI may be launching new restaurants more aggressively in the second half of the year.\n",
    "Additionally, this information could be useful in planning future restaurant launches and identifying the optimal time of year to launch new locations."
   ]
  },
  {
   "cell_type": "markdown",
   "id": "29fdc21d",
   "metadata": {
    "papermill": {
     "duration": 0.012999,
     "end_time": "2023-04-30T13:27:26.742370",
     "exception": false,
     "start_time": "2023-04-30T13:27:26.729371",
     "status": "completed"
    },
    "tags": []
   },
   "source": [
    "This code is creating a count plot of the number of launches per year. It sets the figure size to 15 inches wide by 6 inches high using plt.figure(figsize=(15,6)). The count plot is created using Seaborn's sns.countplot() function, which takes in the data to be plotted and the variable to be counted, in this case df['launch_year']. The order parameter is set to a list of the years in ascending order, so that the bars are plotted in chronological order. Finally, a title is added to the plot using plt.title()."
   ]
  },
  {
   "cell_type": "code",
   "execution_count": 12,
   "id": "8dda8a09",
   "metadata": {
    "execution": {
     "iopub.execute_input": "2023-04-30T13:27:26.770774Z",
     "iopub.status.busy": "2023-04-30T13:27:26.770337Z",
     "iopub.status.idle": "2023-04-30T13:27:27.216339Z",
     "shell.execute_reply": "2023-04-30T13:27:27.215398Z"
    },
    "papermill": {
     "duration": 0.463028,
     "end_time": "2023-04-30T13:27:27.218660",
     "exception": false,
     "start_time": "2023-04-30T13:27:26.755632",
     "status": "completed"
    },
    "tags": []
   },
   "outputs": [
    {
     "data": {
      "image/png": "[encoded data removed]",
      "text/plain": [
       "<Figure size 1500x600 with 1 Axes>"
      ]
     },
     "metadata": {},
     "output_type": "display_data"
    }
   ],
   "source": [
    "plt.figure(figsize=(15,6))\n",
    "df.groupby('launch_year').size().plot(kind='line', marker='*')\n",
    "plt.title('Year-wise no of launches', fontsize=15)\n",
    "plt.xticks(df['launch_year'].unique())\n",
    "plt.show()\n"
   ]
  },
  {
   "cell_type": "markdown",
   "id": "04b741d5",
   "metadata": {
    "papermill": {
     "duration": 0.01561,
     "end_time": "2023-04-30T13:27:27.250230",
     "exception": false,
     "start_time": "2023-04-30T13:27:27.234620",
     "status": "completed"
    },
    "tags": []
   },
   "source": [
    "This line plot shows the trend of the number of restaurant launches over the years. It seems that the number of restaurant launches has been increasing over time, which could be due to several social factors."
   ]
  },
  {
   "cell_type": "markdown",
   "id": "af2d1ef7",
   "metadata": {
    "papermill": {
     "duration": 0.014109,
     "end_time": "2023-04-30T13:27:27.278990",
     "exception": false,
     "start_time": "2023-04-30T13:27:27.264881",
     "status": "completed"
    },
    "tags": []
   },
   "source": [
    "# Prepocessing the data\n",
    "The dataset has categorical variables that require preprocessing before feeding into machine learning algorithms. The 'City' column has too many different categories, so it is better to drop it as it does not add much value. The 'Type' and 'City Group' columns can be handled using one-hot encoding to convert them into numerical values."
   ]
  },
  {
   "cell_type": "code",
   "execution_count": 13,
   "id": "159fc561",
   "metadata": {
    "execution": {
     "iopub.execute_input": "2023-04-30T13:27:27.310064Z",
     "iopub.status.busy": "2023-04-30T13:27:27.309188Z",
     "iopub.status.idle": "2023-04-30T13:27:27.324436Z",
     "shell.execute_reply": "2023-04-30T13:27:27.323091Z"
    },
    "papermill": {
     "duration": 0.033807,
     "end_time": "2023-04-30T13:27:27.327187",
     "exception": false,
     "start_time": "2023-04-30T13:27:27.293380",
     "status": "completed"
    },
    "tags": []
   },
   "outputs": [
    {
     "data": {
      "text/plain": [
       "FC    57088\n",
       "IL    40505\n",
       "DT     2245\n",
       "Name: Type, dtype: int64"
      ]
     },
     "execution_count": 13,
     "metadata": {},
     "output_type": "execute_result"
    }
   ],
   "source": [
    "df['Type'].value_counts()"
   ]
  },
  {
   "cell_type": "code",
   "execution_count": 14,
   "id": "9a527415",
   "metadata": {
    "execution": {
     "iopub.execute_input": "2023-04-30T13:27:27.359086Z",
     "iopub.status.busy": "2023-04-30T13:27:27.358069Z",
     "iopub.status.idle": "2023-04-30T13:27:27.374273Z",
     "shell.execute_reply": "2023-04-30T13:27:27.372975Z"
    },
    "papermill": {
     "duration": 0.034618,
     "end_time": "2023-04-30T13:27:27.376718",
     "exception": false,
     "start_time": "2023-04-30T13:27:27.342100",
     "status": "completed"
    },
    "tags": []
   },
   "outputs": [
    {
     "data": {
      "text/plain": [
       "Other         50611\n",
       "Big Cities    49227\n",
       "Name: City Group, dtype: int64"
      ]
     },
     "execution_count": 14,
     "metadata": {},
     "output_type": "execute_result"
    }
   ],
   "source": [
    "df['City Group'].value_counts()"
   ]
  },
  {
   "cell_type": "code",
   "execution_count": 15,
   "id": "82364289",
   "metadata": {
    "execution": {
     "iopub.execute_input": "2023-04-30T13:27:27.408797Z",
     "iopub.status.busy": "2023-04-30T13:27:27.407989Z",
     "iopub.status.idle": "2023-04-30T13:27:27.424270Z",
     "shell.execute_reply": "2023-04-30T13:27:27.423083Z"
    },
    "papermill": {
     "duration": 0.034939,
     "end_time": "2023-04-30T13:27:27.426662",
     "exception": false,
     "start_time": "2023-04-30T13:27:27.391723",
     "status": "completed"
    },
    "tags": []
   },
   "outputs": [
    {
     "data": {
      "text/plain": [
       "İstanbul     34047\n",
       "Ankara        8719\n",
       "İzmir         6461\n",
       "Antalya       5904\n",
       "Kocaeli       4356\n",
       "             ...  \n",
       "Elazığ           1\n",
       "Osmaniye         1\n",
       "Amasya           1\n",
       "Kastamonu        1\n",
       "Karabük          1\n",
       "Name: City, Length: 63, dtype: int64"
      ]
     },
     "execution_count": 15,
     "metadata": {},
     "output_type": "execute_result"
    }
   ],
   "source": [
    "df['City'].value_counts()"
   ]
  },
  {
   "cell_type": "markdown",
   "id": "f816b556",
   "metadata": {
    "papermill": {
     "duration": 0.014422,
     "end_time": "2023-04-30T13:27:27.455924",
     "exception": false,
     "start_time": "2023-04-30T13:27:27.441502",
     "status": "completed"
    },
    "tags": []
   },
   "source": [
    "The 'City' column has too many different categories, so it is better to drop it as it does not add much value. The 'Type' and 'City Group' columns can be handled using one-hot encoding to convert them into numerical values."
   ]
  },
  {
   "cell_type": "code",
   "execution_count": 16,
   "id": "c8d8943c",
   "metadata": {
    "execution": {
     "iopub.execute_input": "2023-04-30T13:27:27.492319Z",
     "iopub.status.busy": "2023-04-30T13:27:27.491852Z",
     "iopub.status.idle": "2023-04-30T13:27:27.511083Z",
     "shell.execute_reply": "2023-04-30T13:27:27.509433Z"
    },
    "papermill": {
     "duration": 0.04058,
     "end_time": "2023-04-30T13:27:27.513982",
     "exception": false,
     "start_time": "2023-04-30T13:27:27.473402",
     "status": "completed"
    },
    "tags": []
   },
   "outputs": [],
   "source": [
    "df.drop('City',axis=1,inplace=True)"
   ]
  },
  {
   "cell_type": "code",
   "execution_count": 17,
   "id": "900dc033",
   "metadata": {
    "execution": {
     "iopub.execute_input": "2023-04-30T13:27:27.546354Z",
     "iopub.status.busy": "2023-04-30T13:27:27.545884Z",
     "iopub.status.idle": "2023-04-30T13:27:27.899861Z",
     "shell.execute_reply": "2023-04-30T13:27:27.898512Z"
    },
    "papermill": {
     "duration": 0.373593,
     "end_time": "2023-04-30T13:27:27.902720",
     "exception": false,
     "start_time": "2023-04-30T13:27:27.529127",
     "status": "completed"
    },
    "tags": []
   },
   "outputs": [],
   "source": [
    "#converting other categorical columns\n",
    "df['Type'] = df['Type'].map({'FC':0,'IL':1,'DT':2,'MB':3})\n",
    "\n",
    "from sklearn.preprocessing import OrdinalEncoder\n",
    "encoder = OrdinalEncoder()\n",
    "df['City Group'] = encoder.fit_transform(np.array(df['City Group']).reshape(-1,1))\n",
    "df['City Group'] = df['City Group'].apply(int)"
   ]
  },
  {
   "cell_type": "markdown",
   "id": "4bc8abe8",
   "metadata": {
    "papermill": {
     "duration": 0.015037,
     "end_time": "2023-04-30T13:27:27.933561",
     "exception": false,
     "start_time": "2023-04-30T13:27:27.918524",
     "status": "completed"
    },
    "tags": []
   },
   "source": [
    "The block code is converting categorical columns 'Type' and 'City Group' to numerical values. The 'Type' column is mapped with 0 for 'FC', 1 for 'IL', 2 for 'DT', and 3 for 'MB'. The 'City Group' column is encoded using OrdinalEncoder and converted to integers."
   ]
  },
  {
   "cell_type": "code",
   "execution_count": 18,
   "id": "1701bd52",
   "metadata": {
    "execution": {
     "iopub.execute_input": "2023-04-30T13:27:27.966624Z",
     "iopub.status.busy": "2023-04-30T13:27:27.965870Z",
     "iopub.status.idle": "2023-04-30T13:27:28.005442Z",
     "shell.execute_reply": "2023-04-30T13:27:28.004510Z"
    },
    "papermill": {
     "duration": 0.059039,
     "end_time": "2023-04-30T13:27:28.007948",
     "exception": false,
     "start_time": "2023-04-30T13:27:27.948909",
     "status": "completed"
    },
    "tags": []
   },
   "outputs": [
    {
     "data": {
      "text/plain": [
       "launch_Month\n",
       "1     4.521243e+06\n",
       "2     4.189109e+06\n",
       "3     3.477052e+06\n",
       "4     3.749950e+06\n",
       "5     3.657800e+06\n",
       "6     3.776214e+06\n",
       "7     3.458596e+06\n",
       "8     3.883020e+06\n",
       "9     4.526998e+06\n",
       "10    4.056980e+06\n",
       "11    4.403934e+06\n",
       "12    3.720047e+06\n",
       "Name: revenue, dtype: float64"
      ]
     },
     "execution_count": 18,
     "metadata": {},
     "output_type": "execute_result"
    }
   ],
   "source": [
    "df.dropna().groupby('launch_Month')['revenue'].mean()"
   ]
  },
  {
   "cell_type": "markdown",
   "id": "b6cd95ed",
   "metadata": {
    "papermill": {
     "duration": 0.014638,
     "end_time": "2023-04-30T13:27:28.037637",
     "exception": false,
     "start_time": "2023-04-30T13:27:28.022999",
     "status": "completed"
    },
    "tags": []
   },
   "source": []
  },
  {
   "cell_type": "code",
   "execution_count": 19,
   "id": "5193c36a",
   "metadata": {
    "execution": {
     "iopub.execute_input": "2023-04-30T13:27:28.070336Z",
     "iopub.status.busy": "2023-04-30T13:27:28.069157Z",
     "iopub.status.idle": "2023-04-30T13:27:28.080427Z",
     "shell.execute_reply": "2023-04-30T13:27:28.079175Z"
    },
    "papermill": {
     "duration": 0.030241,
     "end_time": "2023-04-30T13:27:28.082830",
     "exception": false,
     "start_time": "2023-04-30T13:27:28.052589",
     "status": "completed"
    },
    "tags": []
   },
   "outputs": [
    {
     "data": {
      "text/plain": [
       "launch_year\n",
       "1995             NaN\n",
       "1996    3.903884e+06\n",
       "1997    4.286645e+06\n",
       "1998    4.251905e+06\n",
       "1999    5.246965e+06\n",
       "2000    7.495092e+06\n",
       "2001             NaN\n",
       "2002    4.991022e+06\n",
       "2003             NaN\n",
       "2004    3.482435e+06\n",
       "2005    3.298470e+06\n",
       "2006    3.360841e+06\n",
       "2007    4.317164e+06\n",
       "2008    4.588214e+06\n",
       "2009    4.094408e+06\n",
       "2010    4.383878e+06\n",
       "2011    4.147879e+06\n",
       "2012    3.540404e+06\n",
       "2013    2.532287e+06\n",
       "2014    2.464944e+06\n",
       "Name: revenue, dtype: float64"
      ]
     },
     "execution_count": 19,
     "metadata": {},
     "output_type": "execute_result"
    }
   ],
   "source": [
    "df.groupby('launch_year')['revenue'].mean()"
   ]
  },
  {
   "cell_type": "markdown",
   "id": "819edbf2",
   "metadata": {
    "papermill": {
     "duration": 0.01479,
     "end_time": "2023-04-30T13:27:28.112854",
     "exception": false,
     "start_time": "2023-04-30T13:27:28.098064",
     "status": "completed"
    },
    "tags": []
   },
   "source": [
    "This code groups the data by the 'launch_year' column and calculates the mean of the 'revenue' column for each year. It then displays the result as a series of values, where the index is the year and the value is the mean revenue for that year.\n",
    "\n",
    "* For example, in the year 1996, the mean revenue was $3.9 million, while in 2014 it was $2.4 million. It is possible to see the fluctuations in revenue over the years.\n",
    "* Year 1999 has recorded highest revenues.\n",
    "* Years 2000, 2013 and 2014 proved to be worst years for restaurants. Though number of observations is too low for year 2014, may be the big picture is differnt from this"
   ]
  },
  {
   "cell_type": "code",
   "execution_count": 20,
   "id": "74b2bed0",
   "metadata": {
    "execution": {
     "iopub.execute_input": "2023-04-30T13:27:28.146044Z",
     "iopub.status.busy": "2023-04-30T13:27:28.145605Z",
     "iopub.status.idle": "2023-04-30T13:27:28.359225Z",
     "shell.execute_reply": "2023-04-30T13:27:28.357956Z"
    },
    "papermill": {
     "duration": 0.234388,
     "end_time": "2023-04-30T13:27:28.362522",
     "exception": false,
     "start_time": "2023-04-30T13:27:28.128134",
     "status": "completed"
    },
    "tags": []
   },
   "outputs": [],
   "source": [
    "#Convert launch year and month to string type\n",
    "df.launche_year = df.launch_year.astype(str)\n",
    "df.launch_Month = df.launch_Month.astype(str)\n",
    "\n",
    "#Create dummy variables for launch year and month\n",
    "year_dummy = pd.get_dummies(df[['launch_year', 'launch_Month']], drop_first=True)\n",
    "\n",
    "#Concatenate original datafreme with dummy variable dataframe\n",
    "df = pd.concat([df,year_dummy],axis=1)\n",
    "\n",
    "#Drop original launch year and month columns\n",
    "df.drop(['launch_year','launch_Month'],axis=1, inplace=True)"
   ]
  },
  {
   "cell_type": "markdown",
   "id": "ba6ae713",
   "metadata": {
    "papermill": {
     "duration": 0.014864,
     "end_time": "2023-04-30T13:27:28.392450",
     "exception": false,
     "start_time": "2023-04-30T13:27:28.377586",
     "status": "completed"
    },
    "tags": []
   },
   "source": [
    "The resulting dataframe has new columns corresponding to the dummy variables created for the 'launch_year' and 'launch_Month' columns, which can be used for further analysis and modeling."
   ]
  },
  {
   "cell_type": "code",
   "execution_count": 21,
   "id": "a5184ee1",
   "metadata": {
    "execution": {
     "iopub.execute_input": "2023-04-30T13:27:28.424467Z",
     "iopub.status.busy": "2023-04-30T13:27:28.424012Z",
     "iopub.status.idle": "2023-04-30T13:27:28.448265Z",
     "shell.execute_reply": "2023-04-30T13:27:28.447266Z"
    },
    "papermill": {
     "duration": 0.043653,
     "end_time": "2023-04-30T13:27:28.451074",
     "exception": false,
     "start_time": "2023-04-30T13:27:28.407421",
     "status": "completed"
    },
    "tags": []
   },
   "outputs": [],
   "source": [
    "# Re-splitting train and test data\n",
    "processed_df = df.dropna(axis=0)\n",
    "processed_test_data = df[128:].drop('revenue',axis=1)\n",
    "# remember there were 137 rows in train data"
   ]
  },
  {
   "cell_type": "code",
   "execution_count": 22,
   "id": "5bca9744",
   "metadata": {
    "execution": {
     "iopub.execute_input": "2023-04-30T13:27:28.483563Z",
     "iopub.status.busy": "2023-04-30T13:27:28.482845Z",
     "iopub.status.idle": "2023-04-30T13:27:28.489128Z",
     "shell.execute_reply": "2023-04-30T13:27:28.488293Z"
    },
    "papermill": {
     "duration": 0.025205,
     "end_time": "2023-04-30T13:27:28.491364",
     "exception": false,
     "start_time": "2023-04-30T13:27:28.466159",
     "status": "completed"
    },
    "tags": []
   },
   "outputs": [
    {
     "data": {
      "text/plain": [
       "((128, 51), (99710, 50))"
      ]
     },
     "execution_count": 22,
     "metadata": {},
     "output_type": "execute_result"
    }
   ],
   "source": [
    "processed_df.shape,processed_test_data.shape"
   ]
  },
  {
   "cell_type": "code",
   "execution_count": 23,
   "id": "ba1dbeeb",
   "metadata": {
    "execution": {
     "iopub.execute_input": "2023-04-30T13:27:28.524025Z",
     "iopub.status.busy": "2023-04-30T13:27:28.523391Z",
     "iopub.status.idle": "2023-04-30T13:27:28.556747Z",
     "shell.execute_reply": "2023-04-30T13:27:28.555262Z"
    },
    "papermill": {
     "duration": 0.052946,
     "end_time": "2023-04-30T13:27:28.559669",
     "exception": false,
     "start_time": "2023-04-30T13:27:28.506723",
     "status": "completed"
    },
    "tags": []
   },
   "outputs": [
    {
     "data": {
      "text/html": [
       "<div>\n",
       "<style scoped>\n",
       "    .dataframe tbody tr th:only-of-type {\n",
       "        vertical-align: middle;\n",
       "    }\n",
       "\n",
       "    .dataframe tbody tr th {\n",
       "        vertical-align: top;\n",
       "    }\n",
       "\n",
       "    .dataframe thead th {\n",
       "        text-align: right;\n",
       "    }\n",
       "</style>\n",
       "<table border=\"1\" class=\"dataframe\">\n",
       "  <thead>\n",
       "    <tr style=\"text-align: right;\">\n",
       "      <th></th>\n",
       "      <th>City Group</th>\n",
       "      <th>Type</th>\n",
       "      <th>P1</th>\n",
       "      <th>P2</th>\n",
       "      <th>P3</th>\n",
       "      <th>P4</th>\n",
       "      <th>P5</th>\n",
       "      <th>P6</th>\n",
       "      <th>P7</th>\n",
       "      <th>P8</th>\n",
       "      <th>P9</th>\n",
       "      <th>P10</th>\n",
       "      <th>P11</th>\n",
       "      <th>P12</th>\n",
       "      <th>P13</th>\n",
       "      <th>P14</th>\n",
       "      <th>P15</th>\n",
       "      <th>P16</th>\n",
       "      <th>P17</th>\n",
       "      <th>P18</th>\n",
       "      <th>P19</th>\n",
       "      <th>P20</th>\n",
       "      <th>P21</th>\n",
       "      <th>P22</th>\n",
       "      <th>P23</th>\n",
       "      <th>P24</th>\n",
       "      <th>P25</th>\n",
       "      <th>P26</th>\n",
       "      <th>P27</th>\n",
       "      <th>P28</th>\n",
       "      <th>P29</th>\n",
       "      <th>P30</th>\n",
       "      <th>P31</th>\n",
       "      <th>P32</th>\n",
       "      <th>P33</th>\n",
       "      <th>P34</th>\n",
       "      <th>P35</th>\n",
       "      <th>P36</th>\n",
       "      <th>P37</th>\n",
       "      <th>revenue</th>\n",
       "      <th>launch_Month_10</th>\n",
       "      <th>launch_Month_11</th>\n",
       "      <th>launch_Month_12</th>\n",
       "      <th>launch_Month_2</th>\n",
       "      <th>launch_Month_3</th>\n",
       "      <th>launch_Month_4</th>\n",
       "      <th>launch_Month_5</th>\n",
       "      <th>launch_Month_6</th>\n",
       "      <th>launch_Month_7</th>\n",
       "      <th>launch_Month_8</th>\n",
       "      <th>launch_Month_9</th>\n",
       "    </tr>\n",
       "  </thead>\n",
       "  <tbody>\n",
       "    <tr>\n",
       "      <th>0</th>\n",
       "      <td>0</td>\n",
       "      <td>1</td>\n",
       "      <td>4</td>\n",
       "      <td>5.0</td>\n",
       "      <td>4.0</td>\n",
       "      <td>4.0</td>\n",
       "      <td>2</td>\n",
       "      <td>2</td>\n",
       "      <td>5</td>\n",
       "      <td>4</td>\n",
       "      <td>5</td>\n",
       "      <td>5</td>\n",
       "      <td>3</td>\n",
       "      <td>5</td>\n",
       "      <td>5.0</td>\n",
       "      <td>1</td>\n",
       "      <td>2</td>\n",
       "      <td>2</td>\n",
       "      <td>2</td>\n",
       "      <td>4</td>\n",
       "      <td>5</td>\n",
       "      <td>4</td>\n",
       "      <td>1</td>\n",
       "      <td>3</td>\n",
       "      <td>3</td>\n",
       "      <td>1</td>\n",
       "      <td>1</td>\n",
       "      <td>1.0</td>\n",
       "      <td>4.0</td>\n",
       "      <td>2.0</td>\n",
       "      <td>3.0</td>\n",
       "      <td>5</td>\n",
       "      <td>3</td>\n",
       "      <td>4</td>\n",
       "      <td>5</td>\n",
       "      <td>5</td>\n",
       "      <td>4</td>\n",
       "      <td>3</td>\n",
       "      <td>4</td>\n",
       "      <td>5653753.0</td>\n",
       "      <td>0</td>\n",
       "      <td>0</td>\n",
       "      <td>0</td>\n",
       "      <td>0</td>\n",
       "      <td>0</td>\n",
       "      <td>0</td>\n",
       "      <td>0</td>\n",
       "      <td>0</td>\n",
       "      <td>1</td>\n",
       "      <td>0</td>\n",
       "      <td>0</td>\n",
       "    </tr>\n",
       "    <tr>\n",
       "      <th>1</th>\n",
       "      <td>0</td>\n",
       "      <td>0</td>\n",
       "      <td>4</td>\n",
       "      <td>5.0</td>\n",
       "      <td>4.0</td>\n",
       "      <td>4.0</td>\n",
       "      <td>1</td>\n",
       "      <td>2</td>\n",
       "      <td>5</td>\n",
       "      <td>5</td>\n",
       "      <td>5</td>\n",
       "      <td>5</td>\n",
       "      <td>1</td>\n",
       "      <td>5</td>\n",
       "      <td>5.0</td>\n",
       "      <td>0</td>\n",
       "      <td>0</td>\n",
       "      <td>0</td>\n",
       "      <td>0</td>\n",
       "      <td>0</td>\n",
       "      <td>3</td>\n",
       "      <td>2</td>\n",
       "      <td>1</td>\n",
       "      <td>3</td>\n",
       "      <td>2</td>\n",
       "      <td>0</td>\n",
       "      <td>0</td>\n",
       "      <td>0.0</td>\n",
       "      <td>0.0</td>\n",
       "      <td>3.0</td>\n",
       "      <td>3.0</td>\n",
       "      <td>0</td>\n",
       "      <td>0</td>\n",
       "      <td>0</td>\n",
       "      <td>0</td>\n",
       "      <td>0</td>\n",
       "      <td>0</td>\n",
       "      <td>0</td>\n",
       "      <td>0</td>\n",
       "      <td>6923131.0</td>\n",
       "      <td>0</td>\n",
       "      <td>0</td>\n",
       "      <td>0</td>\n",
       "      <td>1</td>\n",
       "      <td>0</td>\n",
       "      <td>0</td>\n",
       "      <td>0</td>\n",
       "      <td>0</td>\n",
       "      <td>0</td>\n",
       "      <td>0</td>\n",
       "      <td>0</td>\n",
       "    </tr>\n",
       "    <tr>\n",
       "      <th>2</th>\n",
       "      <td>1</td>\n",
       "      <td>1</td>\n",
       "      <td>2</td>\n",
       "      <td>4.0</td>\n",
       "      <td>2.0</td>\n",
       "      <td>5.0</td>\n",
       "      <td>2</td>\n",
       "      <td>3</td>\n",
       "      <td>5</td>\n",
       "      <td>5</td>\n",
       "      <td>5</td>\n",
       "      <td>5</td>\n",
       "      <td>2</td>\n",
       "      <td>5</td>\n",
       "      <td>5.0</td>\n",
       "      <td>0</td>\n",
       "      <td>0</td>\n",
       "      <td>0</td>\n",
       "      <td>0</td>\n",
       "      <td>0</td>\n",
       "      <td>1</td>\n",
       "      <td>1</td>\n",
       "      <td>1</td>\n",
       "      <td>1</td>\n",
       "      <td>1</td>\n",
       "      <td>0</td>\n",
       "      <td>0</td>\n",
       "      <td>0.0</td>\n",
       "      <td>0.0</td>\n",
       "      <td>1.0</td>\n",
       "      <td>3.0</td>\n",
       "      <td>0</td>\n",
       "      <td>0</td>\n",
       "      <td>0</td>\n",
       "      <td>0</td>\n",
       "      <td>0</td>\n",
       "      <td>0</td>\n",
       "      <td>0</td>\n",
       "      <td>0</td>\n",
       "      <td>2055379.0</td>\n",
       "      <td>0</td>\n",
       "      <td>0</td>\n",
       "      <td>0</td>\n",
       "      <td>0</td>\n",
       "      <td>1</td>\n",
       "      <td>0</td>\n",
       "      <td>0</td>\n",
       "      <td>0</td>\n",
       "      <td>0</td>\n",
       "      <td>0</td>\n",
       "      <td>0</td>\n",
       "    </tr>\n",
       "    <tr>\n",
       "      <th>3</th>\n",
       "      <td>1</td>\n",
       "      <td>1</td>\n",
       "      <td>6</td>\n",
       "      <td>4.5</td>\n",
       "      <td>6.0</td>\n",
       "      <td>6.0</td>\n",
       "      <td>4</td>\n",
       "      <td>4</td>\n",
       "      <td>10</td>\n",
       "      <td>8</td>\n",
       "      <td>10</td>\n",
       "      <td>10</td>\n",
       "      <td>8</td>\n",
       "      <td>10</td>\n",
       "      <td>7.5</td>\n",
       "      <td>6</td>\n",
       "      <td>4</td>\n",
       "      <td>9</td>\n",
       "      <td>3</td>\n",
       "      <td>12</td>\n",
       "      <td>20</td>\n",
       "      <td>12</td>\n",
       "      <td>6</td>\n",
       "      <td>1</td>\n",
       "      <td>10</td>\n",
       "      <td>2</td>\n",
       "      <td>2</td>\n",
       "      <td>2.5</td>\n",
       "      <td>2.5</td>\n",
       "      <td>2.5</td>\n",
       "      <td>7.5</td>\n",
       "      <td>25</td>\n",
       "      <td>12</td>\n",
       "      <td>10</td>\n",
       "      <td>6</td>\n",
       "      <td>18</td>\n",
       "      <td>12</td>\n",
       "      <td>12</td>\n",
       "      <td>6</td>\n",
       "      <td>2675511.0</td>\n",
       "      <td>0</td>\n",
       "      <td>0</td>\n",
       "      <td>0</td>\n",
       "      <td>1</td>\n",
       "      <td>0</td>\n",
       "      <td>0</td>\n",
       "      <td>0</td>\n",
       "      <td>0</td>\n",
       "      <td>0</td>\n",
       "      <td>0</td>\n",
       "      <td>0</td>\n",
       "    </tr>\n",
       "    <tr>\n",
       "      <th>4</th>\n",
       "      <td>1</td>\n",
       "      <td>1</td>\n",
       "      <td>3</td>\n",
       "      <td>4.0</td>\n",
       "      <td>3.0</td>\n",
       "      <td>4.0</td>\n",
       "      <td>2</td>\n",
       "      <td>2</td>\n",
       "      <td>5</td>\n",
       "      <td>5</td>\n",
       "      <td>5</td>\n",
       "      <td>5</td>\n",
       "      <td>2</td>\n",
       "      <td>5</td>\n",
       "      <td>5.0</td>\n",
       "      <td>2</td>\n",
       "      <td>1</td>\n",
       "      <td>2</td>\n",
       "      <td>1</td>\n",
       "      <td>4</td>\n",
       "      <td>2</td>\n",
       "      <td>2</td>\n",
       "      <td>1</td>\n",
       "      <td>2</td>\n",
       "      <td>1</td>\n",
       "      <td>2</td>\n",
       "      <td>3</td>\n",
       "      <td>3.0</td>\n",
       "      <td>5.0</td>\n",
       "      <td>1.0</td>\n",
       "      <td>3.0</td>\n",
       "      <td>5</td>\n",
       "      <td>1</td>\n",
       "      <td>3</td>\n",
       "      <td>2</td>\n",
       "      <td>3</td>\n",
       "      <td>4</td>\n",
       "      <td>3</td>\n",
       "      <td>3</td>\n",
       "      <td>4316715.0</td>\n",
       "      <td>0</td>\n",
       "      <td>0</td>\n",
       "      <td>0</td>\n",
       "      <td>0</td>\n",
       "      <td>0</td>\n",
       "      <td>0</td>\n",
       "      <td>1</td>\n",
       "      <td>0</td>\n",
       "      <td>0</td>\n",
       "      <td>0</td>\n",
       "      <td>0</td>\n",
       "    </tr>\n",
       "  </tbody>\n",
       "</table>\n",
       "</div>"
      ],
      "text/plain": [
       "   City Group  Type  P1   P2   P3   P4  P5  P6  P7  P8  P9  P10  P11  P12  \\\n",
       "0           0     1   4  5.0  4.0  4.0   2   2   5   4   5    5    3    5   \n",
       "1           0     0   4  5.0  4.0  4.0   1   2   5   5   5    5    1    5   \n",
       "2           1     1   2  4.0  2.0  5.0   2   3   5   5   5    5    2    5   \n",
       "3           1     1   6  4.5  6.0  6.0   4   4  10   8  10   10    8   10   \n",
       "4           1     1   3  4.0  3.0  4.0   2   2   5   5   5    5    2    5   \n",
       "\n",
       "   P13  P14  P15  P16  P17  P18  P19  P20  P21  P22  P23  P24  P25  P26  P27  \\\n",
       "0  5.0    1    2    2    2    4    5    4    1    3    3    1    1  1.0  4.0   \n",
       "1  5.0    0    0    0    0    0    3    2    1    3    2    0    0  0.0  0.0   \n",
       "2  5.0    0    0    0    0    0    1    1    1    1    1    0    0  0.0  0.0   \n",
       "3  7.5    6    4    9    3   12   20   12    6    1   10    2    2  2.5  2.5   \n",
       "4  5.0    2    1    2    1    4    2    2    1    2    1    2    3  3.0  5.0   \n",
       "\n",
       "   P28  P29  P30  P31  P32  P33  P34  P35  P36  P37    revenue  \\\n",
       "0  2.0  3.0    5    3    4    5    5    4    3    4  5653753.0   \n",
       "1  3.0  3.0    0    0    0    0    0    0    0    0  6923131.0   \n",
       "2  1.0  3.0    0    0    0    0    0    0    0    0  2055379.0   \n",
       "3  2.5  7.5   25   12   10    6   18   12   12    6  2675511.0   \n",
       "4  1.0  3.0    5    1    3    2    3    4    3    3  4316715.0   \n",
       "\n",
       "   launch_Month_10  launch_Month_11  launch_Month_12  launch_Month_2  \\\n",
       "0                0                0                0               0   \n",
       "1                0                0                0               1   \n",
       "2                0                0                0               0   \n",
       "3                0                0                0               1   \n",
       "4                0                0                0               0   \n",
       "\n",
       "   launch_Month_3  launch_Month_4  launch_Month_5  launch_Month_6  \\\n",
       "0               0               0               0               0   \n",
       "1               0               0               0               0   \n",
       "2               1               0               0               0   \n",
       "3               0               0               0               0   \n",
       "4               0               0               1               0   \n",
       "\n",
       "   launch_Month_7  launch_Month_8  launch_Month_9  \n",
       "0               1               0               0  \n",
       "1               0               0               0  \n",
       "2               0               0               0  \n",
       "3               0               0               0  \n",
       "4               0               0               0  "
      ]
     },
     "execution_count": 23,
     "metadata": {},
     "output_type": "execute_result"
    }
   ],
   "source": [
    "#Check it once\n",
    "processed_df.head()"
   ]
  },
  {
   "cell_type": "markdown",
   "id": "b85bbaf7",
   "metadata": {
    "papermill": {
     "duration": 0.015815,
     "end_time": "2023-04-30T13:27:28.591741",
     "exception": false,
     "start_time": "2023-04-30T13:27:28.575926",
     "status": "completed"
    },
    "tags": []
   },
   "source": [
    "After dropping any rows with null values, the remaining data is split into two new dataframes: `processed_df` and `processed_test_data`. The new test dataframe consists of the last 100000 rows of the original dataset and does not include the `revenue` column. The shapes of these new dataframes are printed and an example of the first few rows of `processed_df` is shown.\n"
   ]
  },
  {
   "cell_type": "markdown",
   "id": "dd73385c",
   "metadata": {
    "papermill": {
     "duration": 0.016169,
     "end_time": "2023-04-30T13:27:28.623861",
     "exception": false,
     "start_time": "2023-04-30T13:27:28.607692",
     "status": "completed"
    },
    "tags": []
   },
   "source": [
    "# Modelling\n",
    "\n",
    "Splitting the train data further into training and testing sets is important in order to evaluate the performance of the machine learning models. In this code snippet, we are importing the train_test_split function from sklearn.model_selection module and using it to split the data into X (input features) and y (target variable) datasets. The X dataset is further split into training and testing sets with a test size of 20% and a random state of 12345 is used for reproducibility purposes."
   ]
  },
  {
   "cell_type": "code",
   "execution_count": 24,
   "id": "9562db44",
   "metadata": {
    "execution": {
     "iopub.execute_input": "2023-04-30T13:27:28.658961Z",
     "iopub.status.busy": "2023-04-30T13:27:28.658267Z",
     "iopub.status.idle": "2023-04-30T13:27:28.731572Z",
     "shell.execute_reply": "2023-04-30T13:27:28.730482Z"
    },
    "papermill": {
     "duration": 0.094113,
     "end_time": "2023-04-30T13:27:28.734550",
     "exception": false,
     "start_time": "2023-04-30T13:27:28.640437",
     "status": "completed"
    },
    "tags": []
   },
   "outputs": [],
   "source": [
    "from sklearn.model_selection import train_test_split\n",
    "\n",
    "X = processed_df.drop('revenue', axis=1)\n",
    "y = processed_df['revenue']\n",
    "\n",
    "if X.shape[0] > 0:\n",
    "    X_train, X_test, y_train, y_test = train_test_split(X, y, test_size=0.2, random_state=12345)\n",
    "else:\n",
    "    print(\"No data to split.\")\n"
   ]
  },
  {
   "cell_type": "markdown",
   "id": "609ef3a6",
   "metadata": {
    "papermill": {
     "duration": 0.015336,
     "end_time": "2023-04-30T13:27:28.765596",
     "exception": false,
     "start_time": "2023-04-30T13:27:28.750260",
     "status": "completed"
    },
    "tags": []
   },
   "source": [
    "This code defines a dictionary of regressors to use and then trains and evaluates each model using the mean absolute error, mean squared error, and R2-score metrics. The results are stored in a dataframe and printed at the end. This version of the code is more readable and separates the logic of training and evaluation from the model selection and results storage."
   ]
  },
  {
   "cell_type": "code",
   "execution_count": 25,
   "id": "cb1acda2",
   "metadata": {
    "execution": {
     "iopub.execute_input": "2023-04-30T13:27:28.798786Z",
     "iopub.status.busy": "2023-04-30T13:27:28.798388Z",
     "iopub.status.idle": "2023-04-30T13:27:30.216747Z",
     "shell.execute_reply": "2023-04-30T13:27:30.215090Z"
    },
    "papermill": {
     "duration": 1.438208,
     "end_time": "2023-04-30T13:27:30.219588",
     "exception": false,
     "start_time": "2023-04-30T13:27:28.781380",
     "status": "completed"
    },
    "tags": []
   },
   "outputs": [
    {
     "name": "stdout",
     "output_type": "stream",
     "text": [
      "                     Model           MAE           MSE  R2-score\n",
      "0        Linear Regression  1.561925e+06  3.514537e+12 -0.386942\n",
      "1      Logistic Regression  1.344192e+06  2.819577e+12 -0.112690\n",
      "2            Decision Tree  1.681647e+06  4.684531e+12 -0.848657\n",
      "3            Random Forest  1.076233e+06  1.636891e+12  0.354033\n",
      "4  Support Vector Machines  1.407327e+06  2.555855e+12 -0.008617\n",
      "5      K-nearest Neighbors  1.147998e+06  1.811929e+12  0.284958\n",
      "6                  XGBoost  1.150776e+06  1.919110e+12  0.242661\n"
     ]
    }
   ],
   "source": [
    "from sklearn.linear_model import LinearRegression\n",
    "from sklearn.linear_model import LogisticRegression\n",
    "from sklearn.tree import DecisionTreeRegressor\n",
    "from sklearn.ensemble import RandomForestRegressor\n",
    "from sklearn.svm import SVR\n",
    "from sklearn.neighbors import KNeighborsRegressor\n",
    "from xgboost import XGBRegressor\n",
    "from sklearn.metrics import mean_absolute_error,mean_squared_error,r2_score\n",
    "from sklearn.model_selection import cross_val_score, GridSearchCV\n",
    "\n",
    "def evaluate_model(model, X_train, y_train, X_test, y_test):\n",
    "    model.fit(X_train, y_train)\n",
    "    y_pred = model.predict(X_test)\n",
    "    mae = mean_absolute_error(y_test, y_pred)\n",
    "    mse = mean_squared_error(y_test, y_pred)\n",
    "    r2 = r2_score(y_test, y_pred)\n",
    "    return mae, mse, r2\n",
    "\n",
    "models = {\n",
    "    'Linear Regression' : LinearRegression(),\n",
    "    'Logistic Regression' : LogisticRegression(),\n",
    "    'Decision Tree' : DecisionTreeRegressor(),\n",
    "    'Random Forest' : RandomForestRegressor(),\n",
    "    'Support Vector Machines' : SVR(),\n",
    "    'K-nearest Neighbors' : KNeighborsRegressor(),\n",
    "    'XGBoost' : XGBRegressor()\n",
    "}\n",
    "\n",
    "results = []\n",
    "for name, model in models.items():\n",
    "    mae, mse, r2 = evaluate_model(model, X_train, y_train, X_test, y_test)\n",
    "    results.append({'Model': name, 'MAE': mae, 'MSE': mse, 'R2-score': r2})\n",
    "\n",
    "results_df = pd.DataFrame(results)\n",
    "print(results_df)\n"
   ]
  },
  {
   "cell_type": "markdown",
   "id": "cab642e1",
   "metadata": {
    "papermill": {
     "duration": 0.015536,
     "end_time": "2023-04-30T13:27:30.251551",
     "exception": false,
     "start_time": "2023-04-30T13:27:30.236015",
     "status": "completed"
    },
    "tags": []
   },
   "source": [
    "The output shows the evaluation results of different regression models trained on a given dataset. The models are evaluated based on their mean absolute error (MAE), mean squared error (MSE), and R2-score. The lower the MAE and MSE, and the higher the R2-score, the better the model's performance.\n",
    "\n",
    "Looking at the results, we can see that the Random Forest model has the lowest MAE and MSE, and the highest R2-score, indicating that it has the best performance among the tested models. Linear regression, on the other hand, has negative R2-score, indicating that it's not a good fit for this dataset."
   ]
  },
  {
   "cell_type": "code",
   "execution_count": 26,
   "id": "0f1db25a",
   "metadata": {
    "execution": {
     "iopub.execute_input": "2023-04-30T13:27:30.285644Z",
     "iopub.status.busy": "2023-04-30T13:27:30.284502Z",
     "iopub.status.idle": "2023-04-30T13:28:32.038878Z",
     "shell.execute_reply": "2023-04-30T13:28:32.037337Z"
    },
    "papermill": {
     "duration": 61.798982,
     "end_time": "2023-04-30T13:28:32.066481",
     "exception": false,
     "start_time": "2023-04-30T13:27:30.267499",
     "status": "completed"
    },
    "tags": []
   },
   "outputs": [
    {
     "name": "stdout",
     "output_type": "stream",
     "text": [
      "Fitting 3 folds for each of 32 candidates, totalling 96 fits\n",
      "-0.012563276117576164\n",
      "{'colsample_bytree': 0.7, 'learning_rate': 0.03, 'max_depth': 6, 'min_child_weight': 4, 'n_estimators': 500, 'subsample': 0.7}\n"
     ]
    }
   ],
   "source": [
    "from sklearn.model_selection import GridSearchCV\n",
    "parameters = {'learning_rate': [.03, 0.05, .07,.09], #so called `eta` value\n",
    "              'max_depth': [6,7,8,9],\n",
    "              'min_child_weight': [4],\n",
    "              'subsample': [0.7],\n",
    "              'colsample_bytree': [0.7],\n",
    "              'n_estimators': [500,700]}\n",
    "\n",
    "xgb_grid = GridSearchCV(XGBRegressor(),\n",
    "                        parameters,\n",
    "                        cv = 3,\n",
    "                        n_jobs = 5,\n",
    "                        verbose=True)\n",
    "\n",
    "xgb_grid.fit(X,y)\n",
    "\n",
    "print(xgb_grid.best_score_)\n",
    "print(xgb_grid.best_params_)"
   ]
  },
  {
   "cell_type": "markdown",
   "id": "3fad0ebf",
   "metadata": {
    "papermill": {
     "duration": 0.016333,
     "end_time": "2023-04-30T13:28:32.099743",
     "exception": false,
     "start_time": "2023-04-30T13:28:32.083410",
     "status": "completed"
    },
    "tags": []
   },
   "source": [
    "This output shows the results of a grid search performed using the GridSearchCV function from the scikit-learn library. The search was conducted using the XGBRegressor model and a set of hyperparameters (learning_rate, max_depth, min_child_weight, subsample, colsample_bytree, and n_estimators) that were specified beforehand.\n",
    "\n",
    "The output indicates that the search was conducted over 32 different parameter combinations (candidates) and that a total of 96 models were fit (3 folds per candidate). The best combination of hyperparameters was found to be {'colsample_bytree': 0.7, 'learning_rate': 0.03, 'max_depth': 6, 'min_child_weight': 4, 'n_estimators': 500, 'subsample': 0.7}, which achieved a score of -0.012563276117576164."
   ]
  },
  {
   "cell_type": "code",
   "execution_count": 27,
   "id": "b3878212",
   "metadata": {
    "execution": {
     "iopub.execute_input": "2023-04-30T13:28:32.135464Z",
     "iopub.status.busy": "2023-04-30T13:28:32.134598Z",
     "iopub.status.idle": "2023-04-30T13:28:32.739072Z",
     "shell.execute_reply": "2023-04-30T13:28:32.738015Z"
    },
    "papermill": {
     "duration": 0.625667,
     "end_time": "2023-04-30T13:28:32.741866",
     "exception": false,
     "start_time": "2023-04-30T13:28:32.116199",
     "status": "completed"
    },
    "tags": []
   },
   "outputs": [],
   "source": [
    "knn=KNeighborsRegressor(n_neighbors=5)\n",
    "knn.fit(X_train,y_train)\n",
    "predicted_test_values2 = knn.predict(processed_test_data)\n",
    "submission2 = pd.DataFrame(columns=['Id','Prediction'])\n",
    "submission2['Id'] = test_data['Id']\n",
    "submission2['Prediction'] = predicted_test_values2\n",
    "submission2.to_csv('submission_knn.csv',index=False)"
   ]
  }
 ],
 "metadata": {
  "kernelspec": {
   "display_name": "Python 3",
   "language": "python",
   "name": "python3"
  },
  "language_info": {
   "codemirror_mode": {
    "name": "ipython",
    "version": 3
   },
   "file_extension": ".py",
   "mimetype": "text/x-python",
   "name": "python",
   "nbconvert_exporter": "python",
   "pygments_lexer": "ipython3",
   "version": "3.7.12"
  },
  "papermill": {
   "default_parameters": {},
   "duration": 83.871611,
   "end_time": "2023-04-30T13:28:35.379909",
   "environment_variables": {},
   "exception": null,
   "input_path": "__notebook__.ipynb",
   "output_path": "__notebook__.ipynb",
   "parameters": {},
   "start_time": "2023-04-30T13:27:11.508298",
   "version": "2.4.0"
  }
 },
 "nbformat": 4,
 "nbformat_minor": 5
}
